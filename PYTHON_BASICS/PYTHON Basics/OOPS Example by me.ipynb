{
 "cells": [
  {
   "cell_type": "code",
   "execution_count": 1,
   "metadata": {},
   "outputs": [],
   "source": [
    "def Height(h):\n",
    "    h=input()\n",
    "    return \"my height is \"+h\n",
    "\n",
    "def weight(w):\n",
    "    w=input()\n",
    "    return \"my weight is \"+w"
   ]
  },
  {
   "cell_type": "code",
   "execution_count": 26,
   "metadata": {},
   "outputs": [],
   "source": [
    "class Animal:\n",
    "    #class variable\n",
    "    \n",
    "    pop=0\n",
    "    animals=[]\n",
    "    \n",
    "    \n",
    "    #constructor\n",
    "    def __init__(self,name,color,age):\n",
    "        self.name=name\n",
    "        self.age=age\n",
    "        self.color=color\n",
    "        self.alive=True\n",
    "        Animal.pop+=1\n",
    "        Animal.animals.append(self)\n",
    "        \n",
    "    def recording(self):\n",
    "        a= Height(self)\n",
    "        b= weight(self)\n",
    "        return (str(a+b))\n",
    "            \n",
    "        \n",
    "    def __repr__(self):\n",
    "        print(f\"my name is {self.name}, My color is {self.color},my age is {self.age} \")\n",
    "        print(f\"iam alive is {self.alive}\")\n",
    "        return self.recording()\n",
    "        \n",
    "        \n",
    "    \n",
    "        \n",
    "    #def Predator(self,Animal):    "
   ]
  },
  {
   "cell_type": "code",
   "execution_count": 27,
   "metadata": {},
   "outputs": [],
   "source": [
    "crow=Animal(\"crow\",\"black\",10)"
   ]
  },
  {
   "cell_type": "code",
   "execution_count": 28,
   "metadata": {},
   "outputs": [
    {
     "name": "stdout",
     "output_type": "stream",
     "text": [
      "\n",
      "\n"
     ]
    },
    {
     "data": {
      "text/plain": [
       "'my height is my weight is '"
      ]
     },
     "execution_count": 28,
     "metadata": {},
     "output_type": "execute_result"
    }
   ],
   "source": [
    "crow.recording()"
   ]
  },
  {
   "cell_type": "code",
   "execution_count": 29,
   "metadata": {},
   "outputs": [
    {
     "name": "stdout",
     "output_type": "stream",
     "text": [
      "my name is crow, My color is black,my age is 10 \n",
      "iam alive is True\n",
      "\n",
      "\n",
      "my height is my weight is \n"
     ]
    }
   ],
   "source": [
    "print(crow)"
   ]
  },
  {
   "cell_type": "code",
   "execution_count": null,
   "metadata": {},
   "outputs": [],
   "source": [
    "cat=Animal(\"kitty\",\"white\",4)"
   ]
  },
  {
   "cell_type": "code",
   "execution_count": null,
   "metadata": {},
   "outputs": [],
   "source": [
    "cat"
   ]
  },
  {
   "cell_type": "code",
   "execution_count": null,
   "metadata": {},
   "outputs": [],
   "source": [
    "Animal.pop"
   ]
  },
  {
   "cell_type": "code",
   "execution_count": null,
   "metadata": {},
   "outputs": [],
   "source": [
    "Animal.animals"
   ]
  },
  {
   "cell_type": "code",
   "execution_count": null,
   "metadata": {},
   "outputs": [],
   "source": []
  },
  {
   "cell_type": "code",
   "execution_count": null,
   "metadata": {},
   "outputs": [],
   "source": [
    "class Human:\n",
    "    #class Variable\n",
    "    \n",
    "    pop=0 #population \n",
    "    aadhar=[] #also maintaining list or database \n",
    "    \n",
    "    #constructor\n",
    "    def __init__(self,name=\"unnamed\"): #we are just intiallising it to  \n",
    "        #unmaed later it will change with name given to it\n",
    "        self.name=name\n",
    "       #tab dabane se aabhi raha hai\n",
    "        #we cant write self here bcz it will create particular aadhar no \n",
    "        #for constructor tht we dont want\n",
    "        self.alive=True\n",
    "        \n",
    "        \n",
    "   \n",
    "        Human.pop+=1\n",
    "        Human.aadhar.append(self) #we can do here self.name \n",
    "        #but we are doing self so whole obj will comes under it\n",
    "        \n",
    "        \n",
    "        \n",
    "        #display func-representation  obj \n",
    "    def __repr__(self):#it just return string of obj of class\n",
    "        return f\" name {self.name}  alive {self.alive}\"\n",
    "    #magic function like __repr__ we have __add__\n",
    "    #it will add __add__ so it will combine name and info\n",
    "    "
   ]
  },
  {
   "cell_type": "code",
   "execution_count": null,
   "metadata": {},
   "outputs": [],
   "source": [
    "p1=Human(\"aryan\")"
   ]
  },
  {
   "cell_type": "code",
   "execution_count": null,
   "metadata": {},
   "outputs": [],
   "source": [
    "print(p1)"
   ]
  },
  {
   "cell_type": "code",
   "execution_count": null,
   "metadata": {},
   "outputs": [],
   "source": [
    "Human.pop"
   ]
  },
  {
   "cell_type": "code",
   "execution_count": null,
   "metadata": {},
   "outputs": [],
   "source": [
    "p2=Human(\"amy\")"
   ]
  },
  {
   "cell_type": "code",
   "execution_count": null,
   "metadata": {},
   "outputs": [],
   "source": [
    "p2"
   ]
  },
  {
   "cell_type": "code",
   "execution_count": null,
   "metadata": {},
   "outputs": [],
   "source": [
    "Human.pop"
   ]
  },
  {
   "cell_type": "code",
   "execution_count": null,
   "metadata": {},
   "outputs": [],
   "source": [
    "Human.aadhar"
   ]
  },
  {
   "cell_type": "code",
   "execution_count": null,
   "metadata": {},
   "outputs": [],
   "source": []
  }
 ],
 "metadata": {
  "kernelspec": {
   "display_name": "Python 3",
   "language": "python",
   "name": "python3"
  },
  "language_info": {
   "codemirror_mode": {
    "name": "ipython",
    "version": 3
   },
   "file_extension": ".py",
   "mimetype": "text/x-python",
   "name": "python",
   "nbconvert_exporter": "python",
   "pygments_lexer": "ipython3",
   "version": "3.8.1"
  }
 },
 "nbformat": 4,
 "nbformat_minor": 4
}
