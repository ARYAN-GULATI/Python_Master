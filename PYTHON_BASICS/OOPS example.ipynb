{
 "cells": [
  {
   "cell_type": "code",
   "execution_count": 81,
   "metadata": {},
   "outputs": [],
   "source": [
    "class Human:\n",
    "    aahar_seq=0\n",
    "    pop=0\n",
    "    aahar=[]\n",
    "    \n",
    "    #constructor\n",
    "    def __init__(self,name=\"unamed\"):\n",
    "        self.name=name\n",
    "        self.id=Human.aahar_seq#tab dabane se aabhi raha hai\n",
    "        self.alive=True\n",
    "        \n",
    "        \n",
    "        Human.aahar_seq+=1\n",
    "        Human.pop+=1\n",
    "        Human.aahar.append(self)\n",
    "    def __repr__(self):#it just return string of obj of class\n",
    "        return f\"{self.name}{self.id}{self.alive}\"\n",
    "    def die(self):\n",
    "        if self.alive==True:\n",
    "            self.alive=False\n",
    "            Human.pop-=1\n",
    "            print(self.name,\"is dead\")\n",
    "            \n",
    "            \n",
    "            \n",
    "#Hitman (INHERTANCE)      \n",
    "class Hitman(Human):\n",
    "    def __init__(self,name):# no need of writng name as it draw from parent class\n",
    "        super().__init__(name)#super() is inhertiance\n",
    "        self.kills =0\n",
    "    def kill(self,person):\n",
    "        if self is person:#( is check obj while== check val)\n",
    "            print(\"sucide is no option\")\n",
    "        else:\n",
    "            person.alive=False\n",
    "            person.die()\n",
    "            self.kills+=1\n",
    "            #kills.append=PErson"
   ]
  },
  {
   "cell_type": "code",
   "execution_count": 82,
   "metadata": {},
   "outputs": [],
   "source": [
    "aryan =Human(\"Aryan\")\n",
    "bhargav= Human(\"Bhargav\")\n",
    "ritvik=Human(\"ritvik\")\n",
    "\n",
    "james=Hitman(\"James\")\n",
    "Naivedh =Hitman(\"Naivedh\")"
   ]
  },
  {
   "cell_type": "code",
   "execution_count": 83,
   "metadata": {},
   "outputs": [
    {
     "name": "stdout",
     "output_type": "stream",
     "text": [
      "0\n",
      "1\n",
      "2\n"
     ]
    }
   ],
   "source": [
    "print(aryan.id)\n",
    "print(bhargav.id)\n",
    "print(ritvik.id)"
   ]
  },
  {
   "cell_type": "code",
   "execution_count": 84,
   "metadata": {},
   "outputs": [
    {
     "data": {
      "text/plain": [
       "'Aryan'"
      ]
     },
     "execution_count": 84,
     "metadata": {},
     "output_type": "execute_result"
    }
   ],
   "source": [
    "aryan.name"
   ]
  },
  {
   "cell_type": "code",
   "execution_count": 85,
   "metadata": {},
   "outputs": [
    {
     "data": {
      "text/plain": [
       "True"
      ]
     },
     "execution_count": 85,
     "metadata": {},
     "output_type": "execute_result"
    }
   ],
   "source": [
    "Human.aahar[0].alive"
   ]
  },
  {
   "cell_type": "code",
   "execution_count": 86,
   "metadata": {},
   "outputs": [
    {
     "data": {
      "text/plain": [
       "[Aryan0True, Bhargav1True, ritvik2True, James3True, Naivedh4True]"
      ]
     },
     "execution_count": 86,
     "metadata": {},
     "output_type": "execute_result"
    }
   ],
   "source": [
    "Human.aahar"
   ]
  },
  {
   "cell_type": "code",
   "execution_count": 87,
   "metadata": {},
   "outputs": [],
   "source": [
    "#del Human"
   ]
  },
  {
   "cell_type": "code",
   "execution_count": 88,
   "metadata": {},
   "outputs": [
    {
     "name": "stdout",
     "output_type": "stream",
     "text": [
      "Aryan0True\n"
     ]
    }
   ],
   "source": [
    "print(aryan)"
   ]
  },
  {
   "cell_type": "code",
   "execution_count": 89,
   "metadata": {},
   "outputs": [
    {
     "name": "stdout",
     "output_type": "stream",
     "text": [
      "Bhargav1True\n"
     ]
    }
   ],
   "source": [
    "#display loc info add of aryan\n",
    "print(bhargav)"
   ]
  },
  {
   "cell_type": "code",
   "execution_count": 90,
   "metadata": {},
   "outputs": [
    {
     "name": "stdout",
     "output_type": "stream",
     "text": [
      "ritvik2True\n"
     ]
    }
   ],
   "source": [
    "print(ritvik)"
   ]
  },
  {
   "cell_type": "code",
   "execution_count": 91,
   "metadata": {},
   "outputs": [
    {
     "data": {
      "text/plain": [
       "'Bhargav1True'"
      ]
     },
     "execution_count": 91,
     "metadata": {},
     "output_type": "execute_result"
    }
   ],
   "source": [
    "str(bhargav)"
   ]
  },
  {
   "cell_type": "code",
   "execution_count": 92,
   "metadata": {},
   "outputs": [],
   "source": [
    "#type(Human)"
   ]
  },
  {
   "cell_type": "code",
   "execution_count": 93,
   "metadata": {},
   "outputs": [],
   "source": [
    "#Bhargav.die()"
   ]
  },
  {
   "cell_type": "code",
   "execution_count": 94,
   "metadata": {},
   "outputs": [],
   "source": [
    "james.kill(ritvik)"
   ]
  },
  {
   "cell_type": "code",
   "execution_count": 95,
   "metadata": {},
   "outputs": [
    {
     "data": {
      "text/plain": [
       "1"
      ]
     },
     "execution_count": 95,
     "metadata": {},
     "output_type": "execute_result"
    }
   ],
   "source": [
    "james.kills"
   ]
  },
  {
   "cell_type": "code",
   "execution_count": 96,
   "metadata": {},
   "outputs": [
    {
     "data": {
      "text/plain": [
       "5"
      ]
     },
     "execution_count": 96,
     "metadata": {},
     "output_type": "execute_result"
    }
   ],
   "source": [
    "Human.pop"
   ]
  },
  {
   "cell_type": "code",
   "execution_count": 97,
   "metadata": {},
   "outputs": [
    {
     "name": "stdout",
     "output_type": "stream",
     "text": [
      "ritvik2False\n"
     ]
    }
   ],
   "source": [
    "print(ritvik)"
   ]
  },
  {
   "cell_type": "code",
   "execution_count": null,
   "metadata": {},
   "outputs": [],
   "source": []
  }
 ],
 "metadata": {
  "kernelspec": {
   "display_name": "Python 3",
   "language": "python",
   "name": "python3"
  },
  "language_info": {
   "codemirror_mode": {
    "name": "ipython",
    "version": 3
   },
   "file_extension": ".py",
   "mimetype": "text/x-python",
   "name": "python",
   "nbconvert_exporter": "python",
   "pygments_lexer": "ipython3",
   "version": "3.8.1"
  }
 },
 "nbformat": 4,
 "nbformat_minor": 4
}
